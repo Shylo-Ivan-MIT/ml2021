{
 "cells": [
  {
   "cell_type": "markdown",
   "source": [
    "Лабораторна робота №2\r\n",
    "Студента групи МІТ-31 (Друга підгрупа)\r\n",
    "Шило Івана Костянтиновича\r\n",
    "\r\n",
    "Завдання\r\n",
    "\r\n",
    "1. Створити набір даних за допомогою DatasetGenerator\r\n",
    "\r\n",
    "2. Завантажити набір даних для регресії на сайті (у кожного студента має бути інший - прошу організуватись відповідним чином)\r\n",
    "\r\n",
    "3. (опціонально для отримання відмінної оцінки) Згенерувати набір даних для регресії на основі звичайних можливостей Python.\r\n",
    "\r\n",
    "4. Для отриманих наборів даних провести встановленні кроки моделювання.\r\n",
    "\r\n",
    "5. Отримані результати викласти на github у репозиторій ml2021 в основну (default) гілку в папці Lab2."
   ],
   "metadata": {}
  },
  {
   "cell_type": "markdown",
   "source": [
    "1.Моделювання для набору даних створеного за домопогою DatasetGenerator"
   ],
   "metadata": {}
  },
  {
   "cell_type": "code",
   "execution_count": 27,
   "source": [
    "import pandas as pd\r\n",
    "import numpy as np\r\n",
    "import matplotlib.pyplot as plt\r\n",
    "import seaborn as sns\r\n",
    "%matplotlib inline"
   ],
   "outputs": [],
   "metadata": {}
  },
  {
   "cell_type": "code",
   "execution_count": 28,
   "source": [
    "#!pip install -U scikit-learn"
   ],
   "outputs": [],
   "metadata": {}
  },
  {
   "cell_type": "code",
   "execution_count": 29,
   "source": [
    "import sklearn \r\n",
    "X, y = sklearn.datasets.make_regression(n_samples=100, n_features=10, n_informative=10, n_targets=1, bias=0.0, effective_rank=None, tail_strength=0.5, noise=0.0, shuffle=True, coef=False, random_state=None)\r\n",
    "y"
   ],
   "outputs": [
    {
     "output_type": "execute_result",
     "data": {
      "text/plain": [
       "array([-162.8225757 , -305.16567038,    7.83630482, -450.36054529,\n",
       "         18.96268854, -312.46601692,  357.79039627,   26.82331494,\n",
       "       -132.54908855,  122.0492665 , -170.06561565, -132.50648118,\n",
       "        664.45603979,   56.69724218,  313.24807814,   -9.13153177,\n",
       "         94.69912549, -189.94776165,  392.89201498,  233.01368466,\n",
       "        188.09599944, -209.75287776,  384.15090664,  213.3925907 ,\n",
       "          6.86476837, -329.2792872 , -535.64917787,  -56.6390688 ,\n",
       "        -90.98659566,  -83.9074292 ,   73.14896348, -245.02634144,\n",
       "        460.63195088,  109.22753131,   40.45839782,  597.56211845,\n",
       "       -216.81313168,  156.26722934, -153.81233363,  234.54476867,\n",
       "         44.30786054, -163.9123614 ,   96.85531987,  106.23989211,\n",
       "       -260.53830678,  -51.79457399, -280.7587067 ,  185.11412402,\n",
       "       -132.08212185,   51.79750136,  -49.90218071,  -27.58814147,\n",
       "       -191.30658497,  334.42215274,  277.06249179,  -31.39345199,\n",
       "       -140.08665105,  152.3177731 ,  -92.52517445,   29.19996559,\n",
       "         33.16644889,  326.0491537 ,  181.69759323,  -53.02828398,\n",
       "        219.56522564,  139.95600374,   -4.87979514,   88.29493065,\n",
       "       -351.78529197, -104.32017477, -229.82731007,   89.57123978,\n",
       "       -102.51253603,   51.46536987, -183.46400574, -202.76643728,\n",
       "        -16.73393013, -230.40802258,  269.04206311, -670.39777829,\n",
       "        -78.37014896,   68.51570369,  137.65703012,  236.71653124,\n",
       "        130.07100151, -189.88006544,   32.71622218, -140.45561397,\n",
       "       -369.86454395, -183.59487807,  331.91211811,  343.30106112,\n",
       "        288.70969495, -143.4569445 ,  257.06310659,  -88.55786232,\n",
       "        131.2568307 , -108.67126287,  112.24874903,  142.26464307])"
      ]
     },
     "metadata": {},
     "execution_count": 29
    }
   ],
   "metadata": {}
  },
  {
   "cell_type": "code",
   "execution_count": 30,
   "source": [
    "df = pd.DataFrame(X, y)\r\n",
    "df.head()"
   ],
   "outputs": [
    {
     "output_type": "execute_result",
     "data": {
      "text/html": [
       "<div>\n",
       "<style scoped>\n",
       "    .dataframe tbody tr th:only-of-type {\n",
       "        vertical-align: middle;\n",
       "    }\n",
       "\n",
       "    .dataframe tbody tr th {\n",
       "        vertical-align: top;\n",
       "    }\n",
       "\n",
       "    .dataframe thead th {\n",
       "        text-align: right;\n",
       "    }\n",
       "</style>\n",
       "<table border=\"1\" class=\"dataframe\">\n",
       "  <thead>\n",
       "    <tr style=\"text-align: right;\">\n",
       "      <th></th>\n",
       "      <th>0</th>\n",
       "      <th>1</th>\n",
       "      <th>2</th>\n",
       "      <th>3</th>\n",
       "      <th>4</th>\n",
       "      <th>5</th>\n",
       "      <th>6</th>\n",
       "      <th>7</th>\n",
       "      <th>8</th>\n",
       "      <th>9</th>\n",
       "    </tr>\n",
       "  </thead>\n",
       "  <tbody>\n",
       "    <tr>\n",
       "      <th>-162.822576</th>\n",
       "      <td>0.437313</td>\n",
       "      <td>-0.477777</td>\n",
       "      <td>1.454934</td>\n",
       "      <td>-0.468565</td>\n",
       "      <td>0.763614</td>\n",
       "      <td>-1.444252</td>\n",
       "      <td>-1.297104</td>\n",
       "      <td>-0.224795</td>\n",
       "      <td>-0.802568</td>\n",
       "      <td>-0.696099</td>\n",
       "    </tr>\n",
       "    <tr>\n",
       "      <th>-305.165670</th>\n",
       "      <td>1.261253</td>\n",
       "      <td>-1.074014</td>\n",
       "      <td>-1.218957</td>\n",
       "      <td>-1.274772</td>\n",
       "      <td>1.029647</td>\n",
       "      <td>1.409326</td>\n",
       "      <td>-1.762419</td>\n",
       "      <td>-1.488092</td>\n",
       "      <td>-0.943540</td>\n",
       "      <td>-0.614948</td>\n",
       "    </tr>\n",
       "    <tr>\n",
       "      <th>7.836305</th>\n",
       "      <td>-0.245059</td>\n",
       "      <td>0.353137</td>\n",
       "      <td>1.586337</td>\n",
       "      <td>-1.312605</td>\n",
       "      <td>0.396158</td>\n",
       "      <td>-0.050477</td>\n",
       "      <td>-0.617513</td>\n",
       "      <td>0.185468</td>\n",
       "      <td>-1.020459</td>\n",
       "      <td>0.250698</td>\n",
       "    </tr>\n",
       "    <tr>\n",
       "      <th>-450.360545</th>\n",
       "      <td>-0.281145</td>\n",
       "      <td>-0.525003</td>\n",
       "      <td>-0.678907</td>\n",
       "      <td>-0.338549</td>\n",
       "      <td>-0.967532</td>\n",
       "      <td>-0.391796</td>\n",
       "      <td>-0.955658</td>\n",
       "      <td>-0.947853</td>\n",
       "      <td>-0.568150</td>\n",
       "      <td>-1.046045</td>\n",
       "    </tr>\n",
       "    <tr>\n",
       "      <th>18.962689</th>\n",
       "      <td>0.362778</td>\n",
       "      <td>-0.135354</td>\n",
       "      <td>0.221433</td>\n",
       "      <td>0.302679</td>\n",
       "      <td>-1.062218</td>\n",
       "      <td>1.998446</td>\n",
       "      <td>-0.071928</td>\n",
       "      <td>-0.007795</td>\n",
       "      <td>-1.586323</td>\n",
       "      <td>1.148182</td>\n",
       "    </tr>\n",
       "  </tbody>\n",
       "</table>\n",
       "</div>"
      ],
      "text/plain": [
       "                    0         1         2         3         4         5  \\\n",
       "-162.822576  0.437313 -0.477777  1.454934 -0.468565  0.763614 -1.444252   \n",
       "-305.165670  1.261253 -1.074014 -1.218957 -1.274772  1.029647  1.409326   \n",
       " 7.836305   -0.245059  0.353137  1.586337 -1.312605  0.396158 -0.050477   \n",
       "-450.360545 -0.281145 -0.525003 -0.678907 -0.338549 -0.967532 -0.391796   \n",
       " 18.962689   0.362778 -0.135354  0.221433  0.302679 -1.062218  1.998446   \n",
       "\n",
       "                    6         7         8         9  \n",
       "-162.822576 -1.297104 -0.224795 -0.802568 -0.696099  \n",
       "-305.165670 -1.762419 -1.488092 -0.943540 -0.614948  \n",
       " 7.836305   -0.617513  0.185468 -1.020459  0.250698  \n",
       "-450.360545 -0.955658 -0.947853 -0.568150 -1.046045  \n",
       " 18.962689  -0.071928 -0.007795 -1.586323  1.148182  "
      ]
     },
     "metadata": {},
     "execution_count": 30
    }
   ],
   "metadata": {}
  },
  {
   "cell_type": "code",
   "execution_count": 31,
   "source": [
    "df.info()"
   ],
   "outputs": [
    {
     "output_type": "stream",
     "name": "stdout",
     "text": [
      "<class 'pandas.core.frame.DataFrame'>\n",
      "Float64Index: 100 entries, -162.8225756997924 to 142.264643071904\n",
      "Data columns (total 10 columns):\n",
      " #   Column  Non-Null Count  Dtype  \n",
      "---  ------  --------------  -----  \n",
      " 0   0       100 non-null    float64\n",
      " 1   1       100 non-null    float64\n",
      " 2   2       100 non-null    float64\n",
      " 3   3       100 non-null    float64\n",
      " 4   4       100 non-null    float64\n",
      " 5   5       100 non-null    float64\n",
      " 6   6       100 non-null    float64\n",
      " 7   7       100 non-null    float64\n",
      " 8   8       100 non-null    float64\n",
      " 9   9       100 non-null    float64\n",
      "dtypes: float64(10)\n",
      "memory usage: 8.6 KB\n"
     ]
    }
   ],
   "metadata": {}
  },
  {
   "cell_type": "code",
   "execution_count": 32,
   "source": [
    "df.describe()"
   ],
   "outputs": [
    {
     "output_type": "execute_result",
     "data": {
      "text/html": [
       "<div>\n",
       "<style scoped>\n",
       "    .dataframe tbody tr th:only-of-type {\n",
       "        vertical-align: middle;\n",
       "    }\n",
       "\n",
       "    .dataframe tbody tr th {\n",
       "        vertical-align: top;\n",
       "    }\n",
       "\n",
       "    .dataframe thead th {\n",
       "        text-align: right;\n",
       "    }\n",
       "</style>\n",
       "<table border=\"1\" class=\"dataframe\">\n",
       "  <thead>\n",
       "    <tr style=\"text-align: right;\">\n",
       "      <th></th>\n",
       "      <th>0</th>\n",
       "      <th>1</th>\n",
       "      <th>2</th>\n",
       "      <th>3</th>\n",
       "      <th>4</th>\n",
       "      <th>5</th>\n",
       "      <th>6</th>\n",
       "      <th>7</th>\n",
       "      <th>8</th>\n",
       "      <th>9</th>\n",
       "    </tr>\n",
       "  </thead>\n",
       "  <tbody>\n",
       "    <tr>\n",
       "      <th>count</th>\n",
       "      <td>100.000000</td>\n",
       "      <td>100.000000</td>\n",
       "      <td>100.000000</td>\n",
       "      <td>100.000000</td>\n",
       "      <td>100.000000</td>\n",
       "      <td>100.000000</td>\n",
       "      <td>100.000000</td>\n",
       "      <td>100.000000</td>\n",
       "      <td>100.000000</td>\n",
       "      <td>100.000000</td>\n",
       "    </tr>\n",
       "    <tr>\n",
       "      <th>mean</th>\n",
       "      <td>0.019715</td>\n",
       "      <td>0.045575</td>\n",
       "      <td>-0.173447</td>\n",
       "      <td>0.107268</td>\n",
       "      <td>-0.140845</td>\n",
       "      <td>0.344686</td>\n",
       "      <td>0.074658</td>\n",
       "      <td>0.170851</td>\n",
       "      <td>-0.141150</td>\n",
       "      <td>-0.079309</td>\n",
       "    </tr>\n",
       "    <tr>\n",
       "      <th>std</th>\n",
       "      <td>0.989782</td>\n",
       "      <td>1.007051</td>\n",
       "      <td>1.055328</td>\n",
       "      <td>1.018432</td>\n",
       "      <td>0.944632</td>\n",
       "      <td>0.968235</td>\n",
       "      <td>1.027826</td>\n",
       "      <td>1.069404</td>\n",
       "      <td>0.942560</td>\n",
       "      <td>1.134659</td>\n",
       "    </tr>\n",
       "    <tr>\n",
       "      <th>min</th>\n",
       "      <td>-2.864761</td>\n",
       "      <td>-2.175321</td>\n",
       "      <td>-2.422960</td>\n",
       "      <td>-1.989644</td>\n",
       "      <td>-2.056585</td>\n",
       "      <td>-2.251124</td>\n",
       "      <td>-2.629195</td>\n",
       "      <td>-2.089239</td>\n",
       "      <td>-2.278122</td>\n",
       "      <td>-2.985511</td>\n",
       "    </tr>\n",
       "    <tr>\n",
       "      <th>25%</th>\n",
       "      <td>-0.524752</td>\n",
       "      <td>-0.578349</td>\n",
       "      <td>-0.915632</td>\n",
       "      <td>-0.567629</td>\n",
       "      <td>-0.780779</td>\n",
       "      <td>-0.245466</td>\n",
       "      <td>-0.620486</td>\n",
       "      <td>-0.620638</td>\n",
       "      <td>-0.800714</td>\n",
       "      <td>-0.762491</td>\n",
       "    </tr>\n",
       "    <tr>\n",
       "      <th>50%</th>\n",
       "      <td>-0.001455</td>\n",
       "      <td>-0.133207</td>\n",
       "      <td>-0.244095</td>\n",
       "      <td>0.071996</td>\n",
       "      <td>-0.133094</td>\n",
       "      <td>0.311905</td>\n",
       "      <td>0.171807</td>\n",
       "      <td>0.015816</td>\n",
       "      <td>-0.037330</td>\n",
       "      <td>-0.177178</td>\n",
       "    </tr>\n",
       "    <tr>\n",
       "      <th>75%</th>\n",
       "      <td>0.478969</td>\n",
       "      <td>0.939879</td>\n",
       "      <td>0.514644</td>\n",
       "      <td>0.849494</td>\n",
       "      <td>0.552882</td>\n",
       "      <td>0.962585</td>\n",
       "      <td>0.784646</td>\n",
       "      <td>0.955010</td>\n",
       "      <td>0.448402</td>\n",
       "      <td>0.492795</td>\n",
       "    </tr>\n",
       "    <tr>\n",
       "      <th>max</th>\n",
       "      <td>2.612750</td>\n",
       "      <td>2.287294</td>\n",
       "      <td>2.478171</td>\n",
       "      <td>2.455089</td>\n",
       "      <td>2.453260</td>\n",
       "      <td>2.800676</td>\n",
       "      <td>2.470953</td>\n",
       "      <td>3.236893</td>\n",
       "      <td>2.635491</td>\n",
       "      <td>2.540318</td>\n",
       "    </tr>\n",
       "  </tbody>\n",
       "</table>\n",
       "</div>"
      ],
      "text/plain": [
       "                0           1           2           3           4           5  \\\n",
       "count  100.000000  100.000000  100.000000  100.000000  100.000000  100.000000   \n",
       "mean     0.019715    0.045575   -0.173447    0.107268   -0.140845    0.344686   \n",
       "std      0.989782    1.007051    1.055328    1.018432    0.944632    0.968235   \n",
       "min     -2.864761   -2.175321   -2.422960   -1.989644   -2.056585   -2.251124   \n",
       "25%     -0.524752   -0.578349   -0.915632   -0.567629   -0.780779   -0.245466   \n",
       "50%     -0.001455   -0.133207   -0.244095    0.071996   -0.133094    0.311905   \n",
       "75%      0.478969    0.939879    0.514644    0.849494    0.552882    0.962585   \n",
       "max      2.612750    2.287294    2.478171    2.455089    2.453260    2.800676   \n",
       "\n",
       "                6           7           8           9  \n",
       "count  100.000000  100.000000  100.000000  100.000000  \n",
       "mean     0.074658    0.170851   -0.141150   -0.079309  \n",
       "std      1.027826    1.069404    0.942560    1.134659  \n",
       "min     -2.629195   -2.089239   -2.278122   -2.985511  \n",
       "25%     -0.620486   -0.620638   -0.800714   -0.762491  \n",
       "50%      0.171807    0.015816   -0.037330   -0.177178  \n",
       "75%      0.784646    0.955010    0.448402    0.492795  \n",
       "max      2.470953    3.236893    2.635491    2.540318  "
      ]
     },
     "metadata": {},
     "execution_count": 32
    }
   ],
   "metadata": {}
  },
  {
   "cell_type": "code",
   "execution_count": 33,
   "source": [
    "correlation = df.corr()\r\n",
    "sns.heatmap(correlation, cmap = \"RdBu\")"
   ],
   "outputs": [
    {
     "output_type": "execute_result",
     "data": {
      "text/plain": [
       "<AxesSubplot:>"
      ]
     },
     "metadata": {},
     "execution_count": 33
    },
    {
     "output_type": "display_data",
     "data": {
      "image/png": "[encoded data removed]",
      "text/plain": [
       "<Figure size 432x288 with 2 Axes>"
      ]
     },
     "metadata": {
      "needs_background": "light"
     }
    }
   ],
   "metadata": {}
  },
  {
   "cell_type": "code",
   "execution_count": 34,
   "source": [
    "from sklearn.model_selection import train_test_split\r\n",
    "X_train,X_test,y_train,y_test = train_test_split(X,y,test_size=0.3)\r\n"
   ],
   "outputs": [],
   "metadata": {}
  },
  {
   "cell_type": "code",
   "execution_count": 39,
   "source": [
    "from sklearn.linear_model import LinearRegression\r\n",
    "Lr = LinearRegression()\r\n",
    "Lr.fit(X_train,y_train)\r\n",
    "y_Hat = Lr.predict(X_test)\r\n",
    "y_Hat"
   ],
   "outputs": [
    {
     "output_type": "execute_result",
     "data": {
      "text/plain": [
       "array([  96.85531987, -260.53830678,   -4.87979514,   56.69724218,\n",
       "        313.24807814,  384.15090664,  357.79039627,  219.56522564,\n",
       "        236.71653124,  -16.73393013,  -27.58814147,  288.70969495,\n",
       "       -305.16567038,  106.23989211,    6.86476837, -140.45561397,\n",
       "        156.26722934,   26.82331494,  392.89201498,  130.07100151,\n",
       "        112.24874903,  188.09599944, -329.2792872 ,  343.30106112,\n",
       "       -163.9123614 , -132.54908855, -351.78529197,  -49.90218071,\n",
       "        257.06310659, -312.46601692])"
      ]
     },
     "metadata": {},
     "execution_count": 39
    }
   ],
   "metadata": {}
  },
  {
   "cell_type": "code",
   "execution_count": 36,
   "source": [
    "from sklearn.metrics import mean_absolute_error\r\n",
    "mean_absolute_error(y_test, y_Hat)"
   ],
   "outputs": [
    {
     "output_type": "execute_result",
     "data": {
      "text/plain": [
       "2.225183000822047e-13"
      ]
     },
     "metadata": {},
     "execution_count": 36
    }
   ],
   "metadata": {}
  },
  {
   "cell_type": "code",
   "execution_count": 37,
   "source": [
    "from sklearn.metrics import mean_squared_error \r\n",
    "mean_squared_error(y_test, y_Hat)"
   ],
   "outputs": [
    {
     "output_type": "execute_result",
     "data": {
      "text/plain": [
       "6.4204863168668e-26"
      ]
     },
     "metadata": {},
     "execution_count": 37
    }
   ],
   "metadata": {}
  },
  {
   "cell_type": "code",
   "execution_count": 38,
   "source": [
    "result = pd.DataFrame(y_test)\r\n",
    "result['L_predicted'] = y_Hat\r\n",
    "\r\n",
    "result.head()"
   ],
   "outputs": [
    {
     "output_type": "execute_result",
     "data": {
      "text/html": [
       "<div>\n",
       "<style scoped>\n",
       "    .dataframe tbody tr th:only-of-type {\n",
       "        vertical-align: middle;\n",
       "    }\n",
       "\n",
       "    .dataframe tbody tr th {\n",
       "        vertical-align: top;\n",
       "    }\n",
       "\n",
       "    .dataframe thead th {\n",
       "        text-align: right;\n",
       "    }\n",
       "</style>\n",
       "<table border=\"1\" class=\"dataframe\">\n",
       "  <thead>\n",
       "    <tr style=\"text-align: right;\">\n",
       "      <th></th>\n",
       "      <th>0</th>\n",
       "      <th>L_predicted</th>\n",
       "    </tr>\n",
       "  </thead>\n",
       "  <tbody>\n",
       "    <tr>\n",
       "      <th>0</th>\n",
       "      <td>96.855320</td>\n",
       "      <td>96.855320</td>\n",
       "    </tr>\n",
       "    <tr>\n",
       "      <th>1</th>\n",
       "      <td>-260.538307</td>\n",
       "      <td>-260.538307</td>\n",
       "    </tr>\n",
       "    <tr>\n",
       "      <th>2</th>\n",
       "      <td>-4.879795</td>\n",
       "      <td>-4.879795</td>\n",
       "    </tr>\n",
       "    <tr>\n",
       "      <th>3</th>\n",
       "      <td>56.697242</td>\n",
       "      <td>56.697242</td>\n",
       "    </tr>\n",
       "    <tr>\n",
       "      <th>4</th>\n",
       "      <td>313.248078</td>\n",
       "      <td>313.248078</td>\n",
       "    </tr>\n",
       "  </tbody>\n",
       "</table>\n",
       "</div>"
      ],
      "text/plain": [
       "            0  L_predicted\n",
       "0   96.855320    96.855320\n",
       "1 -260.538307  -260.538307\n",
       "2   -4.879795    -4.879795\n",
       "3   56.697242    56.697242\n",
       "4  313.248078   313.248078"
      ]
     },
     "metadata": {},
     "execution_count": 38
    }
   ],
   "metadata": {}
  }
 ],
 "metadata": {
  "orig_nbformat": 4,
  "language_info": {
   "name": "python",
   "version": "3.8.8",
   "mimetype": "text/x-python",
   "codemirror_mode": {
    "name": "ipython",
    "version": 3
   },
   "pygments_lexer": "ipython3",
   "nbconvert_exporter": "python",
   "file_extension": ".py"
  },
  "kernelspec": {
   "name": "python3",
   "display_name": "Python 3.8.8 64-bit ('base': conda)"
  },
  "interpreter": {
   "hash": "ed225720166559e7176d3793db16a2fd8d295f725007103b21ac3099d2a89ee8"
  }
 },
 "nbformat": 4,
 "nbformat_minor": 2
}