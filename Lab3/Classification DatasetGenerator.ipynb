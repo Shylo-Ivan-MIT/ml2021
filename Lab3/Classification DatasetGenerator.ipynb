{
 "cells": [
  {
   "cell_type": "markdown",
   "source": [
    "Лабораторна робота №2\r\n",
    "Студента групи МІТ-31 (Друга підгрупа)\r\n",
    "Шило Івана Костянтиновича\r\n",
    "\r\n",
    "Завдання\r\n",
    "\r\n",
    "1. Створити набір даних за допомогою DatasetGenerator\r\n",
    "\r\n",
    "2. Завантажити набір даних для регресії на сайті (у кожного студента має бути інший - прошу організуватись відповідним чином)\r\n",
    "\r\n",
    "3. (опціонально для отримання відмінної оцінки) Згенерувати набір даних для регресії на основі звичайних можливостей Python.\r\n",
    "\r\n",
    "4. Для отриманих наборів даних провести встановленні кроки моделювання.\r\n",
    "\r\n",
    "5. Отримані результати викласти на github у репозиторій ml2021 в основну (default) гілку в папці Lab2."
   ],
   "metadata": {}
  },
  {
   "cell_type": "markdown",
   "source": [
    "1.Моделювання для набору даних створеного за домопогою DatasetGenerator"
   ],
   "metadata": {}
  },
  {
   "cell_type": "code",
   "execution_count": 14,
   "source": [
    "import matplotlib.pyplot as plt\r\n",
    "import seaborn as sns\r\n",
    "%matplotlib inline\r\n",
    "import pandas as pd\r\n",
    "import numpy as np\r\n",
    "\r\n",
    "from sklearn.linear_model import LogisticRegression\r\n",
    "from sklearn.metrics import accuracy_score, confusion_matrix\r\n",
    "\r\n",
    "\r\n",
    "import warnings # ignore warnings\r\n",
    "warnings.filterwarnings('ignore')"
   ],
   "outputs": [],
   "metadata": {}
  },
  {
   "cell_type": "code",
   "execution_count": 15,
   "source": [
    "#!pip install -U scikit-learn"
   ],
   "outputs": [],
   "metadata": {}
  },
  {
   "cell_type": "code",
   "execution_count": 16,
   "source": [
    "import sklearn.datasets\r\n",
    "X, y = sklearn.datasets.make_classification(n_samples=100, n_features=20, n_informative=2, n_redundant=2, n_repeated=0, n_classes=2, n_clusters_per_class=2, weights=None, flip_y=0.01, class_sep=1.0, hypercube=True, shift=0.0, scale=1.0, shuffle=True, random_state=None)\r\n",
    "y"
   ],
   "outputs": [
    {
     "output_type": "execute_result",
     "data": {
      "text/plain": [
       "array([0, 0, 0, 1, 0, 1, 1, 0, 0, 0, 1, 0, 0, 0, 1, 0, 1, 0, 1, 1, 1, 0,\n",
       "       1, 0, 1, 0, 1, 1, 1, 0, 0, 1, 0, 0, 0, 0, 0, 0, 0, 1, 0, 1, 0, 1,\n",
       "       1, 1, 1, 0, 0, 1, 0, 1, 0, 1, 1, 1, 0, 1, 1, 1, 1, 1, 0, 1, 0, 0,\n",
       "       1, 1, 1, 0, 0, 1, 0, 1, 0, 0, 1, 1, 1, 0, 0, 0, 1, 0, 1, 0, 0, 1,\n",
       "       1, 1, 0, 0, 0, 1, 0, 1, 1, 1, 1, 0])"
      ]
     },
     "metadata": {},
     "execution_count": 16
    }
   ],
   "metadata": {}
  },
  {
   "cell_type": "code",
   "execution_count": 17,
   "source": [
    "df = pd.DataFrame(X, y)\r\n",
    "df.head()"
   ],
   "outputs": [
    {
     "output_type": "execute_result",
     "data": {
      "text/html": [
       "<div>\n",
       "<style scoped>\n",
       "    .dataframe tbody tr th:only-of-type {\n",
       "        vertical-align: middle;\n",
       "    }\n",
       "\n",
       "    .dataframe tbody tr th {\n",
       "        vertical-align: top;\n",
       "    }\n",
       "\n",
       "    .dataframe thead th {\n",
       "        text-align: right;\n",
       "    }\n",
       "</style>\n",
       "<table border=\"1\" class=\"dataframe\">\n",
       "  <thead>\n",
       "    <tr style=\"text-align: right;\">\n",
       "      <th></th>\n",
       "      <th>0</th>\n",
       "      <th>1</th>\n",
       "      <th>2</th>\n",
       "      <th>3</th>\n",
       "      <th>4</th>\n",
       "      <th>5</th>\n",
       "      <th>6</th>\n",
       "      <th>7</th>\n",
       "      <th>8</th>\n",
       "      <th>9</th>\n",
       "      <th>10</th>\n",
       "      <th>11</th>\n",
       "      <th>12</th>\n",
       "      <th>13</th>\n",
       "      <th>14</th>\n",
       "      <th>15</th>\n",
       "      <th>16</th>\n",
       "      <th>17</th>\n",
       "      <th>18</th>\n",
       "      <th>19</th>\n",
       "    </tr>\n",
       "  </thead>\n",
       "  <tbody>\n",
       "    <tr>\n",
       "      <th>0</th>\n",
       "      <td>1.665238</td>\n",
       "      <td>-0.371843</td>\n",
       "      <td>-0.756183</td>\n",
       "      <td>-1.573868</td>\n",
       "      <td>1.264944</td>\n",
       "      <td>-2.090836</td>\n",
       "      <td>-1.880143</td>\n",
       "      <td>-0.615140</td>\n",
       "      <td>1.872640</td>\n",
       "      <td>1.194702</td>\n",
       "      <td>1.493816</td>\n",
       "      <td>1.176644</td>\n",
       "      <td>1.752125</td>\n",
       "      <td>0.771434</td>\n",
       "      <td>-2.835226</td>\n",
       "      <td>-0.335090</td>\n",
       "      <td>-1.347500</td>\n",
       "      <td>1.394721</td>\n",
       "      <td>-1.133144</td>\n",
       "      <td>1.946713</td>\n",
       "    </tr>\n",
       "    <tr>\n",
       "      <th>0</th>\n",
       "      <td>0.570640</td>\n",
       "      <td>1.291065</td>\n",
       "      <td>-0.002562</td>\n",
       "      <td>0.472153</td>\n",
       "      <td>-0.388163</td>\n",
       "      <td>1.058902</td>\n",
       "      <td>-0.992648</td>\n",
       "      <td>-0.683335</td>\n",
       "      <td>-1.261959</td>\n",
       "      <td>0.356654</td>\n",
       "      <td>-2.051580</td>\n",
       "      <td>1.204204</td>\n",
       "      <td>-0.445670</td>\n",
       "      <td>-0.909857</td>\n",
       "      <td>0.390680</td>\n",
       "      <td>-0.414492</td>\n",
       "      <td>1.310752</td>\n",
       "      <td>-0.183286</td>\n",
       "      <td>1.139470</td>\n",
       "      <td>0.356927</td>\n",
       "    </tr>\n",
       "    <tr>\n",
       "      <th>0</th>\n",
       "      <td>0.676660</td>\n",
       "      <td>-2.057757</td>\n",
       "      <td>-2.361714</td>\n",
       "      <td>0.520749</td>\n",
       "      <td>0.731719</td>\n",
       "      <td>0.345325</td>\n",
       "      <td>0.476760</td>\n",
       "      <td>-1.587256</td>\n",
       "      <td>0.825354</td>\n",
       "      <td>-0.141375</td>\n",
       "      <td>1.455771</td>\n",
       "      <td>-1.119217</td>\n",
       "      <td>-1.908396</td>\n",
       "      <td>-1.300520</td>\n",
       "      <td>0.478540</td>\n",
       "      <td>-0.924302</td>\n",
       "      <td>0.487472</td>\n",
       "      <td>0.013792</td>\n",
       "      <td>-1.014874</td>\n",
       "      <td>-0.984165</td>\n",
       "    </tr>\n",
       "    <tr>\n",
       "      <th>1</th>\n",
       "      <td>-0.726537</td>\n",
       "      <td>-1.374594</td>\n",
       "      <td>2.042773</td>\n",
       "      <td>-1.884881</td>\n",
       "      <td>0.367398</td>\n",
       "      <td>1.721361</td>\n",
       "      <td>1.489683</td>\n",
       "      <td>0.084049</td>\n",
       "      <td>-1.109847</td>\n",
       "      <td>1.160056</td>\n",
       "      <td>-0.885431</td>\n",
       "      <td>0.433657</td>\n",
       "      <td>1.524037</td>\n",
       "      <td>-0.290824</td>\n",
       "      <td>-0.118913</td>\n",
       "      <td>0.058513</td>\n",
       "      <td>-0.661667</td>\n",
       "      <td>-1.066058</td>\n",
       "      <td>0.620609</td>\n",
       "      <td>1.021546</td>\n",
       "    </tr>\n",
       "    <tr>\n",
       "      <th>0</th>\n",
       "      <td>-0.456390</td>\n",
       "      <td>-0.484186</td>\n",
       "      <td>1.236285</td>\n",
       "      <td>1.368222</td>\n",
       "      <td>1.263293</td>\n",
       "      <td>0.552160</td>\n",
       "      <td>-0.779691</td>\n",
       "      <td>-0.196559</td>\n",
       "      <td>-1.085479</td>\n",
       "      <td>-1.301105</td>\n",
       "      <td>-0.460634</td>\n",
       "      <td>0.512264</td>\n",
       "      <td>0.189550</td>\n",
       "      <td>-0.603425</td>\n",
       "      <td>1.139212</td>\n",
       "      <td>-0.086832</td>\n",
       "      <td>-1.775571</td>\n",
       "      <td>-1.113223</td>\n",
       "      <td>-1.088510</td>\n",
       "      <td>-0.438119</td>\n",
       "    </tr>\n",
       "  </tbody>\n",
       "</table>\n",
       "</div>"
      ],
      "text/plain": [
       "         0         1         2         3         4         5         6   \\\n",
       "0  1.665238 -0.371843 -0.756183 -1.573868  1.264944 -2.090836 -1.880143   \n",
       "0  0.570640  1.291065 -0.002562  0.472153 -0.388163  1.058902 -0.992648   \n",
       "0  0.676660 -2.057757 -2.361714  0.520749  0.731719  0.345325  0.476760   \n",
       "1 -0.726537 -1.374594  2.042773 -1.884881  0.367398  1.721361  1.489683   \n",
       "0 -0.456390 -0.484186  1.236285  1.368222  1.263293  0.552160 -0.779691   \n",
       "\n",
       "         7         8         9         10        11        12        13  \\\n",
       "0 -0.615140  1.872640  1.194702  1.493816  1.176644  1.752125  0.771434   \n",
       "0 -0.683335 -1.261959  0.356654 -2.051580  1.204204 -0.445670 -0.909857   \n",
       "0 -1.587256  0.825354 -0.141375  1.455771 -1.119217 -1.908396 -1.300520   \n",
       "1  0.084049 -1.109847  1.160056 -0.885431  0.433657  1.524037 -0.290824   \n",
       "0 -0.196559 -1.085479 -1.301105 -0.460634  0.512264  0.189550 -0.603425   \n",
       "\n",
       "         14        15        16        17        18        19  \n",
       "0 -2.835226 -0.335090 -1.347500  1.394721 -1.133144  1.946713  \n",
       "0  0.390680 -0.414492  1.310752 -0.183286  1.139470  0.356927  \n",
       "0  0.478540 -0.924302  0.487472  0.013792 -1.014874 -0.984165  \n",
       "1 -0.118913  0.058513 -0.661667 -1.066058  0.620609  1.021546  \n",
       "0  1.139212 -0.086832 -1.775571 -1.113223 -1.088510 -0.438119  "
      ]
     },
     "metadata": {},
     "execution_count": 17
    }
   ],
   "metadata": {}
  },
  {
   "cell_type": "code",
   "execution_count": 18,
   "source": [
    "df.info()"
   ],
   "outputs": [
    {
     "output_type": "stream",
     "name": "stdout",
     "text": [
      "<class 'pandas.core.frame.DataFrame'>\n",
      "Int64Index: 100 entries, 0 to 0\n",
      "Data columns (total 20 columns):\n",
      " #   Column  Non-Null Count  Dtype  \n",
      "---  ------  --------------  -----  \n",
      " 0   0       100 non-null    float64\n",
      " 1   1       100 non-null    float64\n",
      " 2   2       100 non-null    float64\n",
      " 3   3       100 non-null    float64\n",
      " 4   4       100 non-null    float64\n",
      " 5   5       100 non-null    float64\n",
      " 6   6       100 non-null    float64\n",
      " 7   7       100 non-null    float64\n",
      " 8   8       100 non-null    float64\n",
      " 9   9       100 non-null    float64\n",
      " 10  10      100 non-null    float64\n",
      " 11  11      100 non-null    float64\n",
      " 12  12      100 non-null    float64\n",
      " 13  13      100 non-null    float64\n",
      " 14  14      100 non-null    float64\n",
      " 15  15      100 non-null    float64\n",
      " 16  16      100 non-null    float64\n",
      " 17  17      100 non-null    float64\n",
      " 18  18      100 non-null    float64\n",
      " 19  19      100 non-null    float64\n",
      "dtypes: float64(20)\n",
      "memory usage: 16.4 KB\n"
     ]
    }
   ],
   "metadata": {}
  },
  {
   "cell_type": "code",
   "execution_count": 19,
   "source": [
    "df.describe()"
   ],
   "outputs": [
    {
     "output_type": "execute_result",
     "data": {
      "text/html": [
       "<div>\n",
       "<style scoped>\n",
       "    .dataframe tbody tr th:only-of-type {\n",
       "        vertical-align: middle;\n",
       "    }\n",
       "\n",
       "    .dataframe tbody tr th {\n",
       "        vertical-align: top;\n",
       "    }\n",
       "\n",
       "    .dataframe thead th {\n",
       "        text-align: right;\n",
       "    }\n",
       "</style>\n",
       "<table border=\"1\" class=\"dataframe\">\n",
       "  <thead>\n",
       "    <tr style=\"text-align: right;\">\n",
       "      <th></th>\n",
       "      <th>0</th>\n",
       "      <th>1</th>\n",
       "      <th>2</th>\n",
       "      <th>3</th>\n",
       "      <th>4</th>\n",
       "      <th>5</th>\n",
       "      <th>6</th>\n",
       "      <th>7</th>\n",
       "      <th>8</th>\n",
       "      <th>9</th>\n",
       "      <th>10</th>\n",
       "      <th>11</th>\n",
       "      <th>12</th>\n",
       "      <th>13</th>\n",
       "      <th>14</th>\n",
       "      <th>15</th>\n",
       "      <th>16</th>\n",
       "      <th>17</th>\n",
       "      <th>18</th>\n",
       "      <th>19</th>\n",
       "    </tr>\n",
       "  </thead>\n",
       "  <tbody>\n",
       "    <tr>\n",
       "      <th>count</th>\n",
       "      <td>100.000000</td>\n",
       "      <td>100.000000</td>\n",
       "      <td>100.000000</td>\n",
       "      <td>100.000000</td>\n",
       "      <td>100.000000</td>\n",
       "      <td>100.000000</td>\n",
       "      <td>100.000000</td>\n",
       "      <td>100.000000</td>\n",
       "      <td>100.000000</td>\n",
       "      <td>100.000000</td>\n",
       "      <td>100.000000</td>\n",
       "      <td>100.000000</td>\n",
       "      <td>100.000000</td>\n",
       "      <td>100.000000</td>\n",
       "      <td>100.000000</td>\n",
       "      <td>100.000000</td>\n",
       "      <td>100.000000</td>\n",
       "      <td>100.000000</td>\n",
       "      <td>100.000000</td>\n",
       "      <td>100.000000</td>\n",
       "    </tr>\n",
       "    <tr>\n",
       "      <th>mean</th>\n",
       "      <td>0.014675</td>\n",
       "      <td>-0.077112</td>\n",
       "      <td>0.017718</td>\n",
       "      <td>-0.010984</td>\n",
       "      <td>-0.078090</td>\n",
       "      <td>0.123987</td>\n",
       "      <td>-0.094255</td>\n",
       "      <td>0.011078</td>\n",
       "      <td>-0.208446</td>\n",
       "      <td>0.078220</td>\n",
       "      <td>-0.073585</td>\n",
       "      <td>-0.011668</td>\n",
       "      <td>-0.116193</td>\n",
       "      <td>0.138630</td>\n",
       "      <td>-0.091747</td>\n",
       "      <td>0.004732</td>\n",
       "      <td>0.110859</td>\n",
       "      <td>-0.016383</td>\n",
       "      <td>-0.096843</td>\n",
       "      <td>-0.205280</td>\n",
       "    </tr>\n",
       "    <tr>\n",
       "      <th>std</th>\n",
       "      <td>0.993132</td>\n",
       "      <td>0.913602</td>\n",
       "      <td>1.031488</td>\n",
       "      <td>0.945892</td>\n",
       "      <td>1.177164</td>\n",
       "      <td>1.083333</td>\n",
       "      <td>0.891933</td>\n",
       "      <td>1.222638</td>\n",
       "      <td>0.938924</td>\n",
       "      <td>1.096599</td>\n",
       "      <td>0.965674</td>\n",
       "      <td>0.989117</td>\n",
       "      <td>1.017046</td>\n",
       "      <td>1.032936</td>\n",
       "      <td>1.006609</td>\n",
       "      <td>0.703817</td>\n",
       "      <td>1.165908</td>\n",
       "      <td>1.007204</td>\n",
       "      <td>1.045435</td>\n",
       "      <td>1.019695</td>\n",
       "    </tr>\n",
       "    <tr>\n",
       "      <th>min</th>\n",
       "      <td>-2.465539</td>\n",
       "      <td>-2.523270</td>\n",
       "      <td>-2.927376</td>\n",
       "      <td>-2.175814</td>\n",
       "      <td>-3.009628</td>\n",
       "      <td>-2.433521</td>\n",
       "      <td>-2.312266</td>\n",
       "      <td>-2.695507</td>\n",
       "      <td>-2.754774</td>\n",
       "      <td>-2.403917</td>\n",
       "      <td>-2.808525</td>\n",
       "      <td>-2.617888</td>\n",
       "      <td>-2.443322</td>\n",
       "      <td>-2.022398</td>\n",
       "      <td>-2.835226</td>\n",
       "      <td>-1.549171</td>\n",
       "      <td>-2.469272</td>\n",
       "      <td>-2.277789</td>\n",
       "      <td>-2.911654</td>\n",
       "      <td>-3.496404</td>\n",
       "    </tr>\n",
       "    <tr>\n",
       "      <th>25%</th>\n",
       "      <td>-0.602080</td>\n",
       "      <td>-0.754319</td>\n",
       "      <td>-0.606837</td>\n",
       "      <td>-0.612546</td>\n",
       "      <td>-0.965634</td>\n",
       "      <td>-0.516283</td>\n",
       "      <td>-0.681411</td>\n",
       "      <td>-0.853502</td>\n",
       "      <td>-0.943742</td>\n",
       "      <td>-0.583409</td>\n",
       "      <td>-0.788121</td>\n",
       "      <td>-0.659496</td>\n",
       "      <td>-0.833752</td>\n",
       "      <td>-0.597992</td>\n",
       "      <td>-0.689167</td>\n",
       "      <td>-0.496992</td>\n",
       "      <td>-0.838506</td>\n",
       "      <td>-0.639389</td>\n",
       "      <td>-0.843978</td>\n",
       "      <td>-0.787339</td>\n",
       "    </tr>\n",
       "    <tr>\n",
       "      <th>50%</th>\n",
       "      <td>-0.100131</td>\n",
       "      <td>-0.127898</td>\n",
       "      <td>-0.027263</td>\n",
       "      <td>0.019254</td>\n",
       "      <td>-0.184425</td>\n",
       "      <td>0.034182</td>\n",
       "      <td>-0.144306</td>\n",
       "      <td>-0.000524</td>\n",
       "      <td>-0.205599</td>\n",
       "      <td>0.118501</td>\n",
       "      <td>-0.041713</td>\n",
       "      <td>-0.092891</td>\n",
       "      <td>-0.123746</td>\n",
       "      <td>0.089406</td>\n",
       "      <td>-0.086805</td>\n",
       "      <td>0.000023</td>\n",
       "      <td>-0.061251</td>\n",
       "      <td>-0.056995</td>\n",
       "      <td>-0.166384</td>\n",
       "      <td>-0.236999</td>\n",
       "    </tr>\n",
       "    <tr>\n",
       "      <th>75%</th>\n",
       "      <td>0.757428</td>\n",
       "      <td>0.545053</td>\n",
       "      <td>0.787501</td>\n",
       "      <td>0.593052</td>\n",
       "      <td>1.264021</td>\n",
       "      <td>0.999001</td>\n",
       "      <td>0.427158</td>\n",
       "      <td>0.698914</td>\n",
       "      <td>0.432170</td>\n",
       "      <td>0.814417</td>\n",
       "      <td>0.524842</td>\n",
       "      <td>0.630367</td>\n",
       "      <td>0.545690</td>\n",
       "      <td>0.790906</td>\n",
       "      <td>0.485641</td>\n",
       "      <td>0.377174</td>\n",
       "      <td>1.043468</td>\n",
       "      <td>0.633802</td>\n",
       "      <td>0.576949</td>\n",
       "      <td>0.475385</td>\n",
       "    </tr>\n",
       "    <tr>\n",
       "      <th>max</th>\n",
       "      <td>3.291602</td>\n",
       "      <td>1.906766</td>\n",
       "      <td>2.368795</td>\n",
       "      <td>2.632480</td>\n",
       "      <td>2.112495</td>\n",
       "      <td>2.519440</td>\n",
       "      <td>2.141613</td>\n",
       "      <td>3.144065</td>\n",
       "      <td>2.022519</td>\n",
       "      <td>2.573172</td>\n",
       "      <td>2.111376</td>\n",
       "      <td>1.844375</td>\n",
       "      <td>2.191022</td>\n",
       "      <td>2.751306</td>\n",
       "      <td>2.214401</td>\n",
       "      <td>1.828270</td>\n",
       "      <td>2.328170</td>\n",
       "      <td>2.263279</td>\n",
       "      <td>2.122043</td>\n",
       "      <td>2.075124</td>\n",
       "    </tr>\n",
       "  </tbody>\n",
       "</table>\n",
       "</div>"
      ],
      "text/plain": [
       "               0           1           2           3           4           5   \\\n",
       "count  100.000000  100.000000  100.000000  100.000000  100.000000  100.000000   \n",
       "mean     0.014675   -0.077112    0.017718   -0.010984   -0.078090    0.123987   \n",
       "std      0.993132    0.913602    1.031488    0.945892    1.177164    1.083333   \n",
       "min     -2.465539   -2.523270   -2.927376   -2.175814   -3.009628   -2.433521   \n",
       "25%     -0.602080   -0.754319   -0.606837   -0.612546   -0.965634   -0.516283   \n",
       "50%     -0.100131   -0.127898   -0.027263    0.019254   -0.184425    0.034182   \n",
       "75%      0.757428    0.545053    0.787501    0.593052    1.264021    0.999001   \n",
       "max      3.291602    1.906766    2.368795    2.632480    2.112495    2.519440   \n",
       "\n",
       "               6           7           8           9           10          11  \\\n",
       "count  100.000000  100.000000  100.000000  100.000000  100.000000  100.000000   \n",
       "mean    -0.094255    0.011078   -0.208446    0.078220   -0.073585   -0.011668   \n",
       "std      0.891933    1.222638    0.938924    1.096599    0.965674    0.989117   \n",
       "min     -2.312266   -2.695507   -2.754774   -2.403917   -2.808525   -2.617888   \n",
       "25%     -0.681411   -0.853502   -0.943742   -0.583409   -0.788121   -0.659496   \n",
       "50%     -0.144306   -0.000524   -0.205599    0.118501   -0.041713   -0.092891   \n",
       "75%      0.427158    0.698914    0.432170    0.814417    0.524842    0.630367   \n",
       "max      2.141613    3.144065    2.022519    2.573172    2.111376    1.844375   \n",
       "\n",
       "               12          13          14          15          16          17  \\\n",
       "count  100.000000  100.000000  100.000000  100.000000  100.000000  100.000000   \n",
       "mean    -0.116193    0.138630   -0.091747    0.004732    0.110859   -0.016383   \n",
       "std      1.017046    1.032936    1.006609    0.703817    1.165908    1.007204   \n",
       "min     -2.443322   -2.022398   -2.835226   -1.549171   -2.469272   -2.277789   \n",
       "25%     -0.833752   -0.597992   -0.689167   -0.496992   -0.838506   -0.639389   \n",
       "50%     -0.123746    0.089406   -0.086805    0.000023   -0.061251   -0.056995   \n",
       "75%      0.545690    0.790906    0.485641    0.377174    1.043468    0.633802   \n",
       "max      2.191022    2.751306    2.214401    1.828270    2.328170    2.263279   \n",
       "\n",
       "               18          19  \n",
       "count  100.000000  100.000000  \n",
       "mean    -0.096843   -0.205280  \n",
       "std      1.045435    1.019695  \n",
       "min     -2.911654   -3.496404  \n",
       "25%     -0.843978   -0.787339  \n",
       "50%     -0.166384   -0.236999  \n",
       "75%      0.576949    0.475385  \n",
       "max      2.122043    2.075124  "
      ]
     },
     "metadata": {},
     "execution_count": 19
    }
   ],
   "metadata": {}
  },
  {
   "cell_type": "code",
   "execution_count": 20,
   "source": [
    "correlation = df.corr()\r\n",
    "sns.heatmap(correlation, cmap = \"RdBu\")"
   ],
   "outputs": [
    {
     "output_type": "execute_result",
     "data": {
      "text/plain": [
       "<AxesSubplot:>"
      ]
     },
     "metadata": {},
     "execution_count": 20
    },
    {
     "output_type": "display_data",
     "data": {
      "image/png": "[encoded data removed]",
      "text/plain": [
       "<Figure size 432x288 with 2 Axes>"
      ]
     },
     "metadata": {
      "needs_background": "light"
     }
    }
   ],
   "metadata": {}
  },
  {
   "cell_type": "code",
   "execution_count": 21,
   "source": [
    "from sklearn.model_selection import train_test_split\r\n",
    "X_train,X_test,y_train,y_test = train_test_split(X,y,test_size=0.3)\r\n"
   ],
   "outputs": [],
   "metadata": {}
  },
  {
   "cell_type": "code",
   "execution_count": 22,
   "source": [
    "from sklearn.linear_model import LinearRegression\r\n",
    "Lr = LinearRegression()\r\n",
    "Lr.fit(X_train,y_train)\r\n",
    "y_Hat = Lr.predict(X_test)\r\n",
    "y_Hat"
   ],
   "outputs": [
    {
     "output_type": "execute_result",
     "data": {
      "text/plain": [
       "array([ 0.38607112,  0.06630247,  0.11145989,  0.14649792, -0.3628    ,\n",
       "        0.62425174,  0.93178213, -0.20630671,  0.85511517,  0.90865864,\n",
       "        0.57103422, -0.08947974,  0.5971307 ,  0.59425206,  0.70312464,\n",
       "        0.13407055,  1.11856304,  0.38411691,  0.18411188,  0.82267724,\n",
       "        0.27584406,  0.50844727,  0.44091039,  0.22468251,  0.62838246,\n",
       "       -0.13654971,  0.06971097,  1.17861508,  0.53016879, -0.13748806])"
      ]
     },
     "metadata": {},
     "execution_count": 22
    }
   ],
   "metadata": {}
  },
  {
   "cell_type": "code",
   "execution_count": 23,
   "source": [
    "from sklearn.metrics import mean_absolute_error\r\n",
    "mean_absolute_error(y_test, y_Hat)"
   ],
   "outputs": [
    {
     "output_type": "execute_result",
     "data": {
      "text/plain": [
       "0.3088182656227236"
      ]
     },
     "metadata": {},
     "execution_count": 23
    }
   ],
   "metadata": {}
  },
  {
   "cell_type": "code",
   "execution_count": 24,
   "source": [
    "from sklearn.metrics import mean_squared_error \r\n",
    "mean_squared_error(y_test, y_Hat)"
   ],
   "outputs": [
    {
     "output_type": "execute_result",
     "data": {
      "text/plain": [
       "0.14234810654508978"
      ]
     },
     "metadata": {},
     "execution_count": 24
    }
   ],
   "metadata": {}
  },
  {
   "cell_type": "code",
   "execution_count": 25,
   "source": [
    "result = pd.DataFrame(y_test)\r\n",
    "result['predicted'] = y_Hat\r\n",
    "\r\n",
    "result.head()"
   ],
   "outputs": [
    {
     "output_type": "execute_result",
     "data": {
      "text/html": [
       "<div>\n",
       "<style scoped>\n",
       "    .dataframe tbody tr th:only-of-type {\n",
       "        vertical-align: middle;\n",
       "    }\n",
       "\n",
       "    .dataframe tbody tr th {\n",
       "        vertical-align: top;\n",
       "    }\n",
       "\n",
       "    .dataframe thead th {\n",
       "        text-align: right;\n",
       "    }\n",
       "</style>\n",
       "<table border=\"1\" class=\"dataframe\">\n",
       "  <thead>\n",
       "    <tr style=\"text-align: right;\">\n",
       "      <th></th>\n",
       "      <th>0</th>\n",
       "      <th>predicted</th>\n",
       "    </tr>\n",
       "  </thead>\n",
       "  <tbody>\n",
       "    <tr>\n",
       "      <th>0</th>\n",
       "      <td>1</td>\n",
       "      <td>0.386071</td>\n",
       "    </tr>\n",
       "    <tr>\n",
       "      <th>1</th>\n",
       "      <td>1</td>\n",
       "      <td>0.066302</td>\n",
       "    </tr>\n",
       "    <tr>\n",
       "      <th>2</th>\n",
       "      <td>0</td>\n",
       "      <td>0.111460</td>\n",
       "    </tr>\n",
       "    <tr>\n",
       "      <th>3</th>\n",
       "      <td>0</td>\n",
       "      <td>0.146498</td>\n",
       "    </tr>\n",
       "    <tr>\n",
       "      <th>4</th>\n",
       "      <td>0</td>\n",
       "      <td>-0.362800</td>\n",
       "    </tr>\n",
       "  </tbody>\n",
       "</table>\n",
       "</div>"
      ],
      "text/plain": [
       "   0  predicted\n",
       "0  1   0.386071\n",
       "1  1   0.066302\n",
       "2  0   0.111460\n",
       "3  0   0.146498\n",
       "4  0  -0.362800"
      ]
     },
     "metadata": {},
     "execution_count": 25
    }
   ],
   "metadata": {}
  },
  {
   "cell_type": "code",
   "execution_count": 26,
   "source": [
    "from sklearn.preprocessing import StandardScaler # import the scaler\r\n",
    "scaler = StandardScaler() # initiate it\r\n",
    "Scaled_X_train = scaler.fit_transform(X_train) #fit the parameters and use it to trannsform the traning data\r\n",
    "Scaled_X_test = scaler.transform(X_test) #transform the test data"
   ],
   "outputs": [],
   "metadata": {}
  },
  {
   "cell_type": "code",
   "execution_count": 27,
   "source": [
    "# Logestic Regression \r\n",
    "from sklearn.linear_model import LogisticRegression # import the classifier\r\n",
    "log_model = LogisticRegression() #initiate it\r\n",
    "log_model.fit(Scaled_X_train, y_train) #fit the model to the training data"
   ],
   "outputs": [
    {
     "output_type": "execute_result",
     "data": {
      "text/plain": [
       "LogisticRegression()"
      ]
     },
     "metadata": {},
     "execution_count": 27
    }
   ],
   "metadata": {}
  },
  {
   "cell_type": "code",
   "execution_count": 28,
   "source": [
    "# creating predictions \r\n",
    "y_pred = log_model.predict(Scaled_X_test)"
   ],
   "outputs": [],
   "metadata": {}
  },
  {
   "cell_type": "code",
   "execution_count": 29,
   "source": [
    "# import evaluation metrics \r\n",
    "from sklearn.metrics import accuracy_score, confusion_matrix, plot_confusion_matrix, classification_report"
   ],
   "outputs": [],
   "metadata": {}
  },
  {
   "cell_type": "code",
   "execution_count": 30,
   "source": [
    "# create the confusion matrix\r\n",
    "confusion_matrix(y_test, y_pred)"
   ],
   "outputs": [
    {
     "output_type": "execute_result",
     "data": {
      "text/plain": [
       "array([[14,  1],\n",
       "       [ 4, 11]], dtype=int64)"
      ]
     },
     "metadata": {},
     "execution_count": 30
    }
   ],
   "metadata": {}
  },
  {
   "cell_type": "code",
   "execution_count": 31,
   "source": [
    "fig, ax = plt.subplots(dpi = 120)\r\n",
    "plot_confusion_matrix(log_model, Scaled_X_test, y_test, ax = ax);"
   ],
   "outputs": [
    {
     "output_type": "display_data",
     "data": {
      "image/png": "[encoded data removed]",
      "text/plain": [
       "<Figure size 720x480 with 2 Axes>"
      ]
     },
     "metadata": {
      "needs_background": "light"
     }
    }
   ],
   "metadata": {}
  },
  {
   "cell_type": "code",
   "execution_count": 32,
   "source": [
    "# measure the accuracy of our model\r\n",
    "acc_score = accuracy_score(y_test, y_pred)\r\n",
    "round(acc_score, 2)"
   ],
   "outputs": [
    {
     "output_type": "execute_result",
     "data": {
      "text/plain": [
       "0.83"
      ]
     },
     "metadata": {},
     "execution_count": 32
    }
   ],
   "metadata": {}
  },
  {
   "cell_type": "code",
   "execution_count": 33,
   "source": [
    "# generate the classification report \r\n",
    "print(classification_report(y_test, y_pred)) "
   ],
   "outputs": [
    {
     "output_type": "stream",
     "name": "stdout",
     "text": [
      "              precision    recall  f1-score   support\n",
      "\n",
      "           0       0.78      0.93      0.85        15\n",
      "           1       0.92      0.73      0.81        15\n",
      "\n",
      "    accuracy                           0.83        30\n",
      "   macro avg       0.85      0.83      0.83        30\n",
      "weighted avg       0.85      0.83      0.83        30\n",
      "\n"
     ]
    }
   ],
   "metadata": {}
  }
 ],
 "metadata": {
  "orig_nbformat": 4,
  "language_info": {
   "name": "python",
   "version": "3.8.8",
   "mimetype": "text/x-python",
   "codemirror_mode": {
    "name": "ipython",
    "version": 3
   },
   "pygments_lexer": "ipython3",
   "nbconvert_exporter": "python",
   "file_extension": ".py"
  },
  "kernelspec": {
   "name": "python3",
   "display_name": "Python 3.8.8 64-bit ('base': conda)"
  },
  "interpreter": {
   "hash": "ed225720166559e7176d3793db16a2fd8d295f725007103b21ac3099d2a89ee8"
  }
 },
 "nbformat": 4,
 "nbformat_minor": 2
}