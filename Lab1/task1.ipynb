{
 "cells": [
  {
   "cell_type": "code",
   "execution_count": null,
   "source": [],
   "outputs": [],
   "metadata": {}
  },
  {
   "cell_type": "markdown",
   "source": [
    "В зв'язку з прикрими обставинами, файл з лабораторною роботою №1 я втратив одночасно з перестворенням репозиторію на гітхабі. Але я її обов'зяково виконаю наново, як тільки розберуся з проблемами з гітом. Я випадково ініціалізував репозиторій не в тій папці і через те ніяк не міг на основну гілку відправляти з репозиторію з проектом."
   ],
   "metadata": {}
  },
  {
   "cell_type": "markdown",
   "source": [
    "test test"
   ],
   "metadata": {}
  },
  {
   "cell_type": "code",
   "execution_count": null,
   "source": [
    "#це все вже не треба\r\n",
    "#%pip install pandas\r\n",
    "#%pip install numpy\r\n",
    "#%pip install matplotlib"
   ],
   "outputs": [],
   "metadata": {}
  }
 ],
 "metadata": {
  "orig_nbformat": 4,
  "language_info": {
   "name": "python",
   "version": "3.8.8"
  },
  "kernelspec": {
   "name": "python3",
   "display_name": "Python 3.8.8 64-bit ('base': conda)"
  },
  "interpreter": {
   "hash": "ed225720166559e7176d3793db16a2fd8d295f725007103b21ac3099d2a89ee8"
  }
 },
 "nbformat": 4,
 "nbformat_minor": 2
}